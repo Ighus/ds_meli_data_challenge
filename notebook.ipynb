{
 "metadata": {
  "language_info": {
   "codemirror_mode": {
    "name": "ipython",
    "version": 3
   },
   "file_extension": ".py",
   "mimetype": "text/x-python",
   "name": "python",
   "nbconvert_exporter": "python",
   "pygments_lexer": "ipython3",
   "version": "3.8.6-final"
  },
  "orig_nbformat": 2,
  "kernelspec": {
   "name": "Python 3.8.6 64-bit",
   "display_name": "Python 3.8.6 64-bit",
   "metadata": {
    "interpreter": {
     "hash": "4d9029a4f2836547af4afe6e45b9a0d1b0732faf89c5b43e61cf2047755b06d5"
    }
   }
  }
 },
 "nbformat": 4,
 "nbformat_minor": 2,
 "cells": [
  {
   "cell_type": "code",
   "execution_count": null,
   "metadata": {},
   "outputs": [],
   "source": [
    "import pandas as pd"
   ]
  },
  {
   "cell_type": "code",
   "execution_count": null,
   "metadata": {
    "tags": [
     "outputPrepend"
    ]
   },
   "outputs": [],
   "source": [
    "df = pd.read_csv('item_data.jl.gz', compression='gzip', header=0, sep=' ', quotechar='\"', error_bad_lines=False)\n",
    "df_test = pd.read_csv('test_dataset.jl.gz', compression='gzip', header=0, sep=' ', quotechar='\"', error_bad_lines=False)\n",
    "df_train = pd.read_csv('train_dataset.jl.gz', compression='gzip', header=0, sep=' ', quotechar='\"', error_bad_lines=False)"
   ]
  },
  {
   "cell_type": "code",
   "execution_count": null,
   "metadata": {},
   "outputs": [],
   "source": [
    "df_test"
   ]
  }
 ]
}